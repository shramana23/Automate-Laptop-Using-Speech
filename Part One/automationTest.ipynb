{
 "cells": [
  {
   "cell_type": "markdown",
   "metadata": {},
   "source": [
    "# SpeechRecognition Installation:\n",
    "\n",
    "pip install SpeechRecognition"
   ]
  },
  {
   "cell_type": "code",
   "execution_count": 1,
   "metadata": {},
   "outputs": [],
   "source": [
    "import speech_recognition as sr"
   ]
  },
  {
   "cell_type": "markdown",
   "metadata": {},
   "source": [
    "# Check Version"
   ]
  },
  {
   "cell_type": "code",
   "execution_count": 2,
   "metadata": {},
   "outputs": [
    {
     "data": {
      "text/plain": [
       "'3.8.1'"
      ]
     },
     "execution_count": 2,
     "metadata": {},
     "output_type": "execute_result"
    }
   ],
   "source": [
    "sr.__version__"
   ]
  },
  {
   "cell_type": "code",
   "execution_count": 2,
   "metadata": {},
   "outputs": [],
   "source": [
    "#Initialize the recognizer\n",
    "r = sr.Recognizer()"
   ]
  },
  {
   "cell_type": "code",
   "execution_count": 15,
   "metadata": {},
   "outputs": [
    {
     "name": "stdout",
     "output_type": "stream",
     "text": [
      "Speak\n",
      "Over\n",
      "error\n"
     ]
    }
   ],
   "source": [
    "with sr.Microphone() as source:     # use the default microphone as the audio source\n",
    "    print('Speak')\n",
    "    audio = r.listen(source)        # listen for the first phrase and extract it into audio data\n",
    "    print('Over')\n",
    "    \n",
    "try: \n",
    "    print(\"You Said: \" + r.recognize_google(audio))    # recognize speech using Google Speech Recognition\n",
    "except:\n",
    "    print(\"error\")"
   ]
  },
  {
   "cell_type": "markdown",
   "metadata": {},
   "source": [
    "# Check For Microphone\n",
    "Install PyAudio"
   ]
  },
  {
   "cell_type": "code",
   "execution_count": 16,
   "metadata": {},
   "outputs": [
    {
     "name": "stdout",
     "output_type": "stream",
     "text": [
      "0 Microsoft Sound Mapper - Input\n",
      "1 Microphone (Realtek High Defini\n",
      "2 Microsoft Sound Mapper - Output\n",
      "3 Speaker/HP (Realtek High Defini\n"
     ]
    }
   ],
   "source": [
    "import pyaudio\n",
    "p = pyaudio.PyAudio()\n",
    "for i in range(p.get_device_count()):\n",
    "    info = p.get_device_info_by_index(i)\n",
    "    print(info['index'], info['name'])"
   ]
  },
  {
   "cell_type": "markdown",
   "metadata": {},
   "source": [
    "# Code With Device Id"
   ]
  },
  {
   "cell_type": "code",
   "execution_count": 17,
   "metadata": {},
   "outputs": [
    {
     "name": "stdout",
     "output_type": "stream",
     "text": [
      "Speak\n",
      "Over\n",
      "error\n"
     ]
    }
   ],
   "source": [
    "with sr.Microphone(device_index=1) as source:     # use the default microphone as the audio source\n",
    "    print('Speak')\n",
    "    audio = r.listen(source)        # listen for the first phrase and extract it into audio data\n",
    "    print('Over')\n",
    "    \n",
    "try: \n",
    "    print(\"You Said: \" + r.recognize_google(audio))    # recognize speech using Google Speech Recognition\n",
    "except:\n",
    "    print(\"error\")"
   ]
  },
  {
   "cell_type": "markdown",
   "metadata": {},
   "source": [
    "# Code After Reducing Noise"
   ]
  },
  {
   "cell_type": "code",
   "execution_count": 19,
   "metadata": {},
   "outputs": [
    {
     "name": "stdout",
     "output_type": "stream",
     "text": [
      "Speak\n",
      "Over\n",
      "You Said: hello friends\n"
     ]
    }
   ],
   "source": [
    "with sr.Microphone(device_index=1) as source:     # use the default microphone as the audio source\n",
    "    print('Speak')\n",
    "    r.adjust_for_ambient_noise(source)\n",
    "    audio = r.listen(source)        # listen for the first phrase and extract it into audio data\n",
    "    print('Over')\n",
    "    \n",
    "try: \n",
    "    print(\"You Said: \" + r.recognize_google(audio))    # recognize speech using Google Speech Recognition\n",
    "except:\n",
    "    print(\"error\")"
   ]
  },
  {
   "cell_type": "code",
   "execution_count": 14,
   "metadata": {},
   "outputs": [
    {
     "name": "stdout",
     "output_type": "stream",
     "text": [
      "Speak\n",
      "Over\n",
      "The audio file contains: दोस्तों कैसे हो आप लोग अगर यह वीडियो अच्छा लगा हो तो प्लीज लाइक शेयर एंड कमेंट कर देना\n"
     ]
    }
   ],
   "source": [
    "with sr.Microphone(device_index=1) as source:     # use the default microphone as the audio source\n",
    "    print('Speak')\n",
    "    r.adjust_for_ambient_noise(source)\n",
    "    audio = r.listen(source)        # listen for the first phrase and extract it into audio data\n",
    "    print('Over')\n",
    "    \n",
    "try: \n",
    "    print(\"You Said: \" + r.recognize_google(audio, language='hi-IN'))    # recognize speech using Google Speech Recognition\n",
    "except:\n",
    "    print(\"error\")"
   ]
  },
  {
   "cell_type": "code",
   "execution_count": null,
   "metadata": {},
   "outputs": [],
   "source": []
  }
 ],
 "metadata": {
  "kernelspec": {
   "display_name": "Python 3",
   "language": "python",
   "name": "python3"
  },
  "language_info": {
   "codemirror_mode": {
    "name": "ipython",
    "version": 3
   },
   "file_extension": ".py",
   "mimetype": "text/x-python",
   "name": "python",
   "nbconvert_exporter": "python",
   "pygments_lexer": "ipython3",
   "version": "3.6.5"
  }
 },
 "nbformat": 4,
 "nbformat_minor": 2
}
